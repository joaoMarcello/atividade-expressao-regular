{
 "cells": [
  {
   "cell_type": "code",
   "execution_count": 2,
   "id": "72365e59-13fc-4d5d-97f3-de8d0a8c6b1a",
   "metadata": {},
   "outputs": [],
   "source": [
    "import re\n",
    "\n",
    "def verify_pattern(pattern, str_list):\n",
    "    for idx, s in enumerate(str_list):\n",
    "        r = re.findall(pattern, s)\n",
    "        print(f'{idx + 1} = ', r if len(r) > 0 else '----')\n",
    "    print('\\n')"
   ]
  },
  {
   "cell_type": "markdown",
   "id": "d1fa29ab-5825-4ea3-a31b-25b1cb312341",
   "metadata": {},
   "source": [
    "1.Escreva expressões regulares para os seguintes padrões\n",
    "\n",
    "a) Todas as strings alfabéticas;"
   ]
  },
  {
   "cell_type": "code",
   "execution_count": 40,
   "id": "8387d209-665d-4949-b44d-4704dec2c319",
   "metadata": {},
   "outputs": [
    {
     "name": "stdout",
     "output_type": "stream",
     "text": [
      "1 =  ['albatroz']\n",
      "2 =  ----\n",
      "3 =  ['Casaco']\n",
      "4 =  ----\n",
      "5 =  ['EsPerTezA']\n",
      "6 =  ['a', 'luta', 'muda', 'a', 'vida']\n",
      "7 =  ['por', 'extenso', 'vinte']\n",
      "\n",
      "\n"
     ]
    }
   ],
   "source": [
    "str_list = [\n",
    "    'albatroz', \n",
    "    'big0rna', \n",
    "    'Casaco', \n",
    "    'dom_quixote', \n",
    "    'EsPerTezA', \n",
    "    'só a luta muda a vida.', \n",
    "    'por extenso, 20 é vinte'\n",
    "]\n",
    "\n",
    "pattern = r'\\b[a-zA-Z]+\\b'\n",
    "verify_pattern(pattern, str_list)"
   ]
  },
  {
   "cell_type": "markdown",
   "id": "aa78f416-d625-48dc-a824-dbd5de1277f2",
   "metadata": {},
   "source": [
    "b) Todas as strings alfabéticas minúsculas terminando em a b;\n"
   ]
  },
  {
   "cell_type": "code",
   "execution_count": 74,
   "id": "e53598b4-7dbb-4c9c-b423-37adb953b19d",
   "metadata": {},
   "outputs": [
    {
     "name": "stdout",
     "output_type": "stream",
     "text": [
      "1 =  ['ab']\n",
      "2 =  ----\n",
      "3 =  ----\n",
      "4 =  ----\n",
      "5 =  ['caaaaab']\n",
      "6 =  ----\n",
      "7 =  ['zaaab', 'tab', 'bab']\n",
      "\n",
      "\n"
     ]
    }
   ],
   "source": [
    "str_list = [\n",
    "    'ab', \n",
    "    'ba', \n",
    "    'ban', \n",
    "    'aba', \n",
    "    'caaaaab', \n",
    "    'aaaaaba', \n",
    "    'zaaab tab bab aba'\n",
    "]\n",
    "pattern = r'\\b[a-zA-Z]*ab\\b'\n",
    "verify_pattern(pattern, str_list)"
   ]
  },
  {
   "cell_type": "markdown",
   "id": "eb7a1b21-050d-4d2d-882d-faf0aea165a3",
   "metadata": {},
   "source": [
    "c) Todas as strings do alfabeto a; b de modo que cada a seja imediatamente precedido por e imediatamente seguido por a b;"
   ]
  },
  {
   "cell_type": "code",
   "execution_count": null,
   "id": "3b040acd-68a8-41f7-889b-fcbbf542c17a",
   "metadata": {},
   "outputs": [],
   "source": []
  },
  {
   "cell_type": "markdown",
   "id": "cc0426ee-4fd2-4aaf-b9c8-768aa50a2b63",
   "metadata": {},
   "source": [
    "d) Corresponder à palavra \"viagra\" e a alguns dos disfarces que remetentes de spam usam, como: vi@gra ; v1agra; v1@gra; v!@gr@"
   ]
  },
  {
   "cell_type": "code",
   "execution_count": 96,
   "id": "3f51a440-c827-4095-8c18-8b234a3e200f",
   "metadata": {},
   "outputs": [
    {
     "name": "stdout",
     "output_type": "stream",
     "text": [
      "1 =  ['viagra']\n",
      "2 =  ['vi@gra']\n",
      "3 =  ['v1agra']\n",
      "4 =  ['v1@gra']\n",
      "5 =  ['v!@gr@']\n",
      "6 =  ['v1@gr@']\n",
      "7 =  ['V1@gr@']\n",
      "\n",
      "\n"
     ]
    }
   ],
   "source": [
    "str_list = [\n",
    "    'viagra',\n",
    "    'vi@gra',\n",
    "    'v1agra',\n",
    "    'v1@gra',\n",
    "    'a palavra v!@gr@ está no meio do texto',\n",
    "    'compre v1@gr@',\n",
    "    'V1@gr@ é bom',\n",
    "]\n",
    "pattern = r'\\b[vV][!i1][a@A]gr[a@A](?![\\w])' # tive que colocar (?![\\w]) no final porque \\b não estava capturando quando @ estava no final da palavra\n",
    "verify_pattern(pattern, str_list)"
   ]
  },
  {
   "cell_type": "markdown",
   "id": "49f7af65-6909-4d56-96d4-c2ae047ba448",
   "metadata": {},
   "source": [
    "e) Corresponder a qualquer endereço de e-mail dos domínios nca.ufma  e ufpi.edu.br"
   ]
  },
  {
   "cell_type": "code",
   "execution_count": 3,
   "id": "17e67857-2e60-4bf4-880a-d20d4c280a49",
   "metadata": {},
   "outputs": [
    {
     "name": "stdout",
     "output_type": "stream",
     "text": [
      "1 =  ['joao.mm@nca.ufma']\n",
      "2 =  ['joao.mm@ufpi.edu.br']\n",
      "3 =  ['joao.mm.m@nca.ufma']\n",
      "4 =  ['joao-moreira@ufpi.edu.br']\n",
      "5 =  ----\n",
      "6 =  ----\n",
      "7 =  ----\n",
      "\n",
      "\n"
     ]
    }
   ],
   "source": [
    "str_list = [\n",
    "    'joao.mm@nca.ufma',\n",
    "    'joao.mm@ufpi.edu.br',\n",
    "    'joao.mm.m@nca.ufma',\n",
    "    'joao-moreira@ufpi.edu.br',\n",
    "    'joao..mm@nca.ufma', # invalido: possui ..\n",
    "    '.joao@ufpi.edu.br',  # invalido: comeca com .\n",
    "    'joaomarcello!@nca.ufma', #invalido: possui caracatere !\n",
    "]\n",
    "# tive que usar ?: no agrupamento final para não armazenar os resultados\n",
    "# (?!.*\\.\\.) serve para impedir que .. seja reconhecido (não se pode criar e-mail com ..)\n",
    "# |\\. no agrupamento inicial serve para impedir que e-mails que comecem com . sejam reconhecidos\n",
    "# ^ serve para impedir que reconheca a parte final do e-mail caso as as condições de lookahead sejam encontradas\n",
    "pattern = r'^(?!.*\\.\\.|\\.)[\\w\\.\\-_]+\\@(?:nca\\.ufma|ufpi\\.edu\\.br)' \n",
    "verify_pattern(pattern, str_list)"
   ]
  },
  {
   "cell_type": "markdown",
   "id": "4362bb55-089a-429f-92c2-9b7af6d7eb61",
   "metadata": {},
   "source": [
    "f) Corresponder a qualquer endereço IP com a variação de 192.168.1.0 a 192.168.1.255."
   ]
  },
  {
   "cell_type": "code",
   "execution_count": 231,
   "id": "aaff0607-a976-4af1-9276-c9e01d1e21fd",
   "metadata": {},
   "outputs": [
    {
     "name": "stdout",
     "output_type": "stream",
     "text": [
      "1 =  ['192.168.1.0']\n",
      "2 =  ['192.168.1.255']\n",
      "3 =  ['192.168.1.50']\n",
      "4 =  ----\n",
      "5 =  ['192.168.1.100']\n",
      "\n",
      "\n"
     ]
    }
   ],
   "source": [
    "str_list = [\n",
    "    '192.168.1.0',\n",
    "    '192.168.1.255',\n",
    "    '192.168.1.50',\n",
    "    '192.168.1.1344',\n",
    "    '192.168.1.100',\n",
    "]\n",
    "# [\\d]{1,3} \n",
    "pattern = r'\\b192\\.168\\.1\\.[\\d]{1,3}\\b'\n",
    "verify_pattern(pattern, str_list)"
   ]
  },
  {
   "cell_type": "markdown",
   "id": "238a3ba3-f229-421d-b4fa-d4b108241d1c",
   "metadata": {},
   "source": [
    "g) Corresponder aos números de ordem de compra (PO) de sua empresa. Esse número tem vários formatos possíveis, como: PO nn-nnnnn; PO-nn-nnnn; PO# nn nnnn; PO#nn-nnnn;  PO nnnnnn"
   ]
  },
  {
   "cell_type": "code",
   "execution_count": 201,
   "id": "e3b1566f-1861-4314-b550-b285becb5d63",
   "metadata": {},
   "outputs": [
    {
     "name": "stdout",
     "output_type": "stream",
     "text": [
      "1 =  ['PO 00-00000']\n",
      "2 =  ['PO-00-0000']\n",
      "3 =  ['PO# 00 0000']\n",
      "4 =  ['PO#00-0000']\n",
      "5 =  ['PO 000000']\n",
      "\n",
      "\n"
     ]
    }
   ],
   "source": [
    "str_list = [\n",
    "    'PO 00-00000',\n",
    "    'PO-00-0000',\n",
    "    'PO# 00 0000',\n",
    "    'PO#00-0000',\n",
    "    'PO 000000',\n",
    "]\n",
    "# PO[ #-] verifica se contem PO seguido dos caracteres - ou # ou espaço em branco\n",
    "# [ ]* verifica se possui uma sequência de espaços em branco (pode não haver nenhum também)\n",
    "# \\d{2} verifica os dois primeiros dígitos (a primeira parte númerica)\n",
    "# [ -]? verifica o conectivo entre a primeira e segunda parte numérica (espaço em branco ou hífen, se houver)\n",
    "# \\d{4,5} verifica a segunda parte numérica (precisa conter 4 ou 5 dígitos numéricos)\n",
    "pattern = r'PO[ #-][ ]*\\d{2}[ -]?\\d{4,5}$'\n",
    "verify_pattern(pattern, str_list)"
   ]
  },
  {
   "cell_type": "code",
   "execution_count": null,
   "id": "15f231ee-5418-49c3-bf9e-83f8ad88299d",
   "metadata": {},
   "outputs": [],
   "source": []
  }
 ],
 "metadata": {
  "kernelspec": {
   "display_name": "env",
   "language": "python",
   "name": "python3"
  },
  "language_info": {
   "codemirror_mode": {
    "name": "ipython",
    "version": 3
   },
   "file_extension": ".py",
   "mimetype": "text/x-python",
   "name": "python",
   "nbconvert_exporter": "python",
   "pygments_lexer": "ipython3",
   "version": "3.13.3"
  }
 },
 "nbformat": 4,
 "nbformat_minor": 5
}
