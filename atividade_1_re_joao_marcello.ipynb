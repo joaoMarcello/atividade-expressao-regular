{
 "cells": [
  {
   "cell_type": "code",
   "execution_count": 33,
   "id": "72365e59-13fc-4d5d-97f3-de8d0a8c6b1a",
   "metadata": {},
   "outputs": [],
   "source": [
    "import re\n",
    "\n",
    "def verify_pattern(pattern: str, str_list: list) -> None:\n",
    "    r'''\n",
    "        Dado um padrão e uma lista de strings, encontra todas as vezes que o padrão é encontrado na string. \n",
    "        Se imprimir ---- é porque o padrão não foi encontrado.\n",
    "        \n",
    "        :param pattern (str): o padrão a ser procurado na string.\n",
    "        :param str_list (list): uma lista contendo strings para checar o padrão.\n",
    "    '''\n",
    "    for idx, s in enumerate(str_list):\n",
    "        r = re.findall(pattern, s)\n",
    "        print(f'{idx + 1} = ', r if len(r) > 0 else '----')\n",
    "    print('\\n')\n",
    "\n",
    "\n",
    "def verify_pattern_with_group(pattern: str, str_list: list, group_number: int = 1) -> None:\n",
    "    r'''\n",
    "        Verifica o padrão em uma lista de strings usando re.fullmatch (útil quando se quer usar groups).\n",
    "        Se imprimir --- é porque o padrão não foi encontrado.\n",
    "\n",
    "        :param pattern (str): o padrão a ser procurado na string.\n",
    "        :param str_list (list): uma lista contendo strings para checar o padrão.\n",
    "    '''\n",
    "    for idx, s in enumerate(str_list):\n",
    "        r = re.fullmatch(pattern, s)\n",
    "        print(f'{idx + 1} = ', r.group(group_number) if r is not None else '----')"
   ]
  },
  {
   "cell_type": "markdown",
   "id": "d1fa29ab-5825-4ea3-a31b-25b1cb312341",
   "metadata": {},
   "source": [
    "1. Escreva expressões regulares para os seguintes padrões\n",
    "\n",
    "a) Todas as strings alfabéticas;"
   ]
  },
  {
   "cell_type": "code",
   "execution_count": 299,
   "id": "8387d209-665d-4949-b44d-4704dec2c319",
   "metadata": {},
   "outputs": [
    {
     "name": "stdout",
     "output_type": "stream",
     "text": [
      "1 =  ['albatroz']\n",
      "2 =  ----\n",
      "3 =  ['Casaco']\n",
      "4 =  ----\n",
      "5 =  ['EsPerTezA']\n",
      "6 =  ----\n",
      "7 =  ----\n",
      "\n",
      "\n"
     ]
    }
   ],
   "source": [
    "str_list = [\n",
    "    'albatroz', \n",
    "    'big0rna',   # inválido: contém caracteres numéricos\n",
    "    'Casaco', \n",
    "    'dom_quixote',  # inválido: contém um caracter não alfabético\n",
    "    'EsPerTezA', \n",
    "    'pikachu123',  # inválido: contém caracteres numéricos\n",
    "    '20'   # inválido: contém caracteres numéricos\n",
    "]\n",
    "# usei \\b para separar as palavras de uma string. assim dá pra checar várias palavras na mesma string\n",
    "pattern = r'\\b[a-zA-Z]+\\b'\n",
    "verify_pattern(pattern, str_list)"
   ]
  },
  {
   "cell_type": "markdown",
   "id": "aa78f416-d625-48dc-a824-dbd5de1277f2",
   "metadata": {},
   "source": [
    "b) Todas as strings alfabéticas minúsculas terminando em a b;\n"
   ]
  },
  {
   "cell_type": "code",
   "execution_count": 322,
   "id": "e53598b4-7dbb-4c9c-b423-37adb953b19d",
   "metadata": {},
   "outputs": [
    {
     "name": "stdout",
     "output_type": "stream",
     "text": [
      "1 =  ['ab']\n",
      "2 =  ----\n",
      "3 =  ----\n",
      "4 =  ----\n",
      "5 =  ----\n",
      "6 =  ['caaaaab']\n",
      "7 =  ----\n",
      "8 =  ['zaaab', 'tab', 'bab']\n",
      "\n",
      "\n"
     ]
    }
   ],
   "source": [
    "str_list = [\n",
    "    'ab', \n",
    "    'ba',  # inválido: não termina em ab\n",
    "    'Bab', # inválido: possui uma letra maiúscula\n",
    "    'ban', # inválido: não termina em ab\n",
    "    'aba', # inválido: não termina em ab\n",
    "    'caaaaab', \n",
    "    'aaaaaba', # inválido: não termina em ab\n",
    "    'zaaab tab bab aba' # exemplo colocando várias palavras na mesma string\n",
    "]\n",
    "\n",
    "# usei \\b para separar as palavras de uma string. assim dá pra checar várias palavras na mesma string\n",
    "pattern = r'\\b[a-z]*ab\\b'\n",
    "verify_pattern(pattern, str_list)"
   ]
  },
  {
   "cell_type": "markdown",
   "id": "eb7a1b21-050d-4d2d-882d-faf0aea165a3",
   "metadata": {},
   "source": [
    "c) Todas as strings do alfabeto a; b de modo que cada a seja imediatamente precedido por e imediatamente seguido por a b;"
   ]
  },
  {
   "cell_type": "code",
   "execution_count": 333,
   "id": "3b040acd-68a8-41f7-889b-fcbbf542c17a",
   "metadata": {},
   "outputs": [
    {
     "name": "stdout",
     "output_type": "stream",
     "text": [
      "1 =  ['abaab']\n",
      "2 =  ----\n",
      "\n",
      "\n"
     ]
    }
   ],
   "source": [
    "str_list = [\n",
    "    'abaab',\n",
    "    'baaab',\n",
    "]\n",
    "\n",
    "pattern = r'^(?:ab)[ab]*(?:ab)$'\n",
    "verify_pattern(pattern, str_list)"
   ]
  },
  {
   "cell_type": "markdown",
   "id": "cc0426ee-4fd2-4aaf-b9c8-768aa50a2b63",
   "metadata": {},
   "source": [
    "d) Corresponder à palavra \"viagra\" e a alguns dos disfarces que remetentes de spam usam, como: vi@gra ; v1agra; v1@gra; v!@gr@"
   ]
  },
  {
   "cell_type": "code",
   "execution_count": 337,
   "id": "3f51a440-c827-4095-8c18-8b234a3e200f",
   "metadata": {},
   "outputs": [
    {
     "name": "stdout",
     "output_type": "stream",
     "text": [
      "1 =  ['viagra']\n",
      "2 =  ['vi@gra']\n",
      "3 =  ['v1agra']\n",
      "4 =  ['V1@gra']\n",
      "5 =  ['v!@gr@']\n",
      "6 =  ['v1agr@']\n",
      "\n",
      "\n"
     ]
    }
   ],
   "source": [
    "str_list = [\n",
    "    'viagra',\n",
    "    'vi@gra',\n",
    "    'v1agra',\n",
    "    'V1@gra',\n",
    "    'v!@gr@',\n",
    "    'v1agr@',\n",
    "]\n",
    "\n",
    "pattern = r'[vV][!i1][a@A]gr[a@A]' \n",
    "verify_pattern(pattern, str_list)"
   ]
  },
  {
   "cell_type": "markdown",
   "id": "49f7af65-6909-4d56-96d4-c2ae047ba448",
   "metadata": {},
   "source": [
    "e) Corresponder a qualquer endereço de e-mail dos domínios nca.ufma  e ufpi.edu.br"
   ]
  },
  {
   "cell_type": "code",
   "execution_count": 351,
   "id": "17e67857-2e60-4bf4-880a-d20d4c280a49",
   "metadata": {},
   "outputs": [
    {
     "name": "stdout",
     "output_type": "stream",
     "text": [
      "1 =  ['joao.mm@nca.ufma']\n",
      "2 =  ['joao.mm@ufpi.edu.br']\n",
      "3 =  ['joao.mm.m@nca.ufma']\n",
      "4 =  ['joao_moreira@ufpi.edu.br']\n",
      "5 =  ----\n",
      "6 =  ----\n",
      "7 =  ----\n",
      "\n",
      "\n"
     ]
    }
   ],
   "source": [
    "str_list = [\n",
    "    'joao.mm@nca.ufma',\n",
    "    'joao.mm@ufpi.edu.br',\n",
    "    'joao.mm.m@nca.ufma',\n",
    "    'joao_moreira@ufpi.edu.br',\n",
    "    'joao..mm@nca.ufma', # invalido: possui ..\n",
    "    '.joao@ufpi.edu.br',  # invalido: comeca com .\n",
    "    'joaomarcello!@nca.ufma', #invalido: possui caracatere !\n",
    "]\n",
    "# tive que usar ?: no agrupamento final para não armazenar os resultados do grupo\n",
    "# (?!.*\\.\\.) serve para impedir que .. seja reconhecido (não se pode criar e-mail com dois pontos seguidos!)\n",
    "# |\\. no agrupamento inicial serve para impedir que e-mails que comecem com . sejam reconhecidos\n",
    "# ^ serve para impedir que reconheca a parte final do e-mail caso as as condições de lookahead sejam encontradas\n",
    "pattern = r'^(?!.*\\.\\.|\\.)[\\w\\.\\-_]+\\@(?:nca\\.ufma|ufpi\\.edu\\.br)$' \n",
    "verify_pattern(pattern, str_list)"
   ]
  },
  {
   "cell_type": "markdown",
   "id": "4362bb55-089a-429f-92c2-9b7af6d7eb61",
   "metadata": {},
   "source": [
    "f) Corresponder a qualquer endereço IP com a variação de 192.168.1.0 a 192.168.1.255."
   ]
  },
  {
   "cell_type": "code",
   "execution_count": 355,
   "id": "aaff0607-a976-4af1-9276-c9e01d1e21fd",
   "metadata": {},
   "outputs": [
    {
     "name": "stdout",
     "output_type": "stream",
     "text": [
      "1 =  ['192.168.1.0']\n",
      "2 =  ['192.168.1.255']\n",
      "3 =  ['192.168.1.50']\n",
      "4 =  ----\n",
      "5 =  ----\n",
      "6 =  ----\n",
      "\n",
      "\n"
     ]
    }
   ],
   "source": [
    "str_list = [\n",
    "    '192.168.1.0',\n",
    "    '192.168.1.255',\n",
    "    '192.168.1.50',\n",
    "    '192.168.1.1344', # inválido: termina com um número de 4 algarismos\n",
    "    '200.168.1.100', # inválido: não corresponde ao IP na variação desejada\n",
    "    '5192.168.1.200', # inválido: começa com 5192 em vez de 192\n",
    "]\n",
    "# [\\d]{1,3} verifica se a última parte da string contém um número de 1 a 3 algarismos\n",
    "# colocar $ no final garante a correspondência somente com strings que terminam com números de 1 a 3 algarismos\n",
    "# colocar ^ no começo impede que strings começando com qualquer outro caractere seguido de 192 seja aceita\n",
    "pattern = r'^192\\.168\\.1\\.[\\d]{1,3}$'\n",
    "verify_pattern(pattern, str_list)"
   ]
  },
  {
   "cell_type": "markdown",
   "id": "238a3ba3-f229-421d-b4fa-d4b108241d1c",
   "metadata": {},
   "source": [
    "g) Corresponder aos números de ordem de compra (PO) de sua empresa. Esse número tem vários formatos possíveis, como: PO nn-nnnnn; PO-nn-nnnn; PO# nn nnnn; PO#nn-nnnn;  PO nnnnnn"
   ]
  },
  {
   "cell_type": "code",
   "execution_count": 358,
   "id": "e3b1566f-1861-4314-b550-b285becb5d63",
   "metadata": {},
   "outputs": [
    {
     "name": "stdout",
     "output_type": "stream",
     "text": [
      "1 =  ['PO 00-00000']\n",
      "2 =  ['PO-00-0000']\n",
      "3 =  ['PO# 00 0000']\n",
      "4 =  ['PO#00-0000']\n",
      "5 =  ['PO 000000']\n",
      "\n",
      "\n"
     ]
    }
   ],
   "source": [
    "str_list = [\n",
    "    'PO 00-00000',\n",
    "    'PO-00-0000',\n",
    "    'PO# 00 0000',\n",
    "    'PO#00-0000',\n",
    "    'PO 000000',\n",
    "]\n",
    "# PO[ #-] verifica se contem PO seguido dos caracteres - ou # ou espaço em branco\n",
    "# [ ]? verifica se possui um espaço em branco extra\n",
    "# \\d{2} verifica os dois primeiros dígitos (a primeira parte númerica)\n",
    "# [ -]? verifica o conectivo entre a primeira e segunda parte numérica (espaço em branco ou hífen, se houver)\n",
    "# \\d{4,5} verifica a segunda parte numérica (precisa conter 4 ou 5 dígitos numéricos)\n",
    "pattern = r'^PO[ #-][ ]?\\d{2}[ -]?\\d{4,5}$'\n",
    "verify_pattern(pattern, str_list)"
   ]
  },
  {
   "cell_type": "markdown",
   "id": "13a5824c-32e7-4dfe-9253-89ec21ec935f",
   "metadata": {},
   "source": [
    "2. Escreva expressões regulares para os seguintes padrões. Por “palavra”, queremos dizer uma string alfabética separada de outras palavras por espaços em branco, qualquer pontuação relevante, quebras de linha e assim por diante\n",
    "\n",
    "a) Todas as strings com duas palavras repetidas consecutivas (por exemplo, “Humbert Humbert” e “o o”);"
   ]
  },
  {
   "cell_type": "code",
   "execution_count": 31,
   "id": "404c96e6-f8fd-4e6a-ac8d-145e8efe5935",
   "metadata": {},
   "outputs": [
    {
     "name": "stdout",
     "output_type": "stream",
     "text": [
      "1 =  Humbert Humbert\n",
      "2 =  o o\n",
      "3 =  ----\n",
      "4 =  ----\n",
      "5 =  Joao Joao\n",
      "6 =  ----\n"
     ]
    }
   ],
   "source": [
    "str_list = [\n",
    "    'Humbert Humbert',\n",
    "    'o o',\n",
    "    'joaojoao', # inválido: sem espaços em branco (conta como uma palavra só)\n",
    "    'joao marcello', # inválido: as palavras não são as mesmas\n",
    "    'Joao Joao',\n",
    "    'Marcello marcello' # inválido: as palavras não são as mesmas\n",
    "]\n",
    "\n",
    "pattern = r'\\b([a-zA-Z]+)\\b\\s+\\b\\1\\b'\n",
    "verify_pattern_with_group(pattern, str_list, 0)"
   ]
  },
  {
   "cell_type": "markdown",
   "id": "c8fe127f-25e0-4e34-9c41-6344a68cdfe8",
   "metadata": {},
   "source": [
    "b) Todas as strings que começam no início da linha com um inteiro e terminam no final da linha com uma palavra;"
   ]
  },
  {
   "cell_type": "code",
   "execution_count": 282,
   "id": "ad4f0306-23bb-40d5-b6bf-fb2e097f7b01",
   "metadata": {},
   "outputs": [
    {
     "name": "stdout",
     "output_type": "stream",
     "text": [
      "1 =  ['12 macacos']\n",
      "2 =  ----\n",
      "3 =  ['6 vampiros e 4 lobisomens']\n",
      "4 =  ----\n",
      "\n",
      "\n"
     ]
    }
   ],
   "source": [
    "# assumi que pode haver mais de 2 palavras na string, desde que satisfaça as condições de:\n",
    "#   - começar com número inteiro\n",
    "#   - terminar com uma palavra\n",
    "\n",
    "str_list = [\n",
    "    '12 macacos',\n",
    "    'tenho 5 canetas', # inválido: não começa com um número inteiro\n",
    "    '6 vampiros e 4 lobisomens',\n",
    "    '4 são as meninas e os meninos são 6', # inválido: não termina com uma palavra (6 não é palavra de acordo com a definição dada pelo exercício)\n",
    "]\n",
    "\n",
    "pattern = r'^[\\d]+.*[a-zA-Z]+$'\n",
    "verify_pattern(pattern, str_list)"
   ]
  },
  {
   "cell_type": "markdown",
   "id": "ff24c2f7-37f4-47cb-abb6-7b91a1c6d1e9",
   "metadata": {},
   "source": [
    "c) Todas as strings que contêm a palavra gruta e a palavra raven (mas não, por exemplo, palavras como grutas que contêm apenas a palavra gruta);"
   ]
  },
  {
   "cell_type": "code",
   "execution_count": 29,
   "id": "ec2c4f3c-bdc6-44c1-b5ba-a8eefceff4e2",
   "metadata": {},
   "outputs": [
    {
     "name": "stdout",
     "output_type": "stream",
     "text": [
      "1 =  ['gruta, mas não o raven']\n",
      "2 =  ----\n",
      "3 =  ['gruta chamada raven']\n",
      "4 =  ['raven e a gruta']\n",
      "\n",
      "\n"
     ]
    }
   ],
   "source": [
    "str_list = [\n",
    "    'achei a gruta, mas não o raven',\n",
    "    'achei as grutas e o raven', # inválido: a palavra grutas possui s no final\n",
    "    'fui a uma gruta chamada raven',\n",
    "    'o raven e a gruta',\n",
    "]\n",
    "\n",
    "pattern = r'\\bgruta\\b.*\\braven\\b|\\braven\\b.*\\bgruta\\b'\n",
    "verify_pattern(pattern, str_list)"
   ]
  },
  {
   "cell_type": "code",
   "execution_count": null,
   "id": "742edd21-3966-4964-afd6-ddda108e9c18",
   "metadata": {},
   "outputs": [],
   "source": []
  }
 ],
 "metadata": {
  "kernelspec": {
   "display_name": "Python 3 (ipykernel)",
   "language": "python",
   "name": "python3"
  },
  "language_info": {
   "codemirror_mode": {
    "name": "ipython",
    "version": 3
   },
   "file_extension": ".py",
   "mimetype": "text/x-python",
   "name": "python",
   "nbconvert_exporter": "python",
   "pygments_lexer": "ipython3",
   "version": "3.13.3"
  }
 },
 "nbformat": 4,
 "nbformat_minor": 5
}
